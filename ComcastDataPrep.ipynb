{
    "nbformat_minor": 2, 
    "cells": [
        {
            "source": "# Exploring Comcast Customer Interaction Data\nLoad sample data, flatten JSON structures, understand the meaning of various status and reason codes, construct time series, look for identifying patterns and construct candidate features.", 
            "cell_type": "markdown", 
            "metadata": {}
        }, 
        {
            "source": "## Preliminaries\nSet up credentials and functions for file I/O, enable PixieDust for visualization.", 
            "cell_type": "markdown", 
            "metadata": {}
        }, 
        {
            "execution_count": 2, 
            "cell_type": "code", 
            "metadata": {
                "collapsed": true
            }, 
            "outputs": [], 
            "source": "# The code was removed by DSX for sharing."
        }, 
        {
            "execution_count": 3, 
            "cell_type": "code", 
            "metadata": {
                "collapsed": true
            }, 
            "outputs": [], 
            "source": "# The code was removed by DSX for sharing."
        }, 
        {
            "execution_count": 4, 
            "cell_type": "code", 
            "metadata": {}, 
            "outputs": [
                {
                    "output_type": "stream", 
                    "name": "stdout", 
                    "text": "Pixiedust database opened successfully\n"
                }, 
                {
                    "output_type": "display_data", 
                    "data": {
                        "text/html": "\n        <div style=\"margin:10px\">\n            <a href=\"https://github.com/ibm-watson-data-lab/pixiedust\" target=\"_new\">\n                <img src=\"https://github.com/ibm-watson-data-lab/pixiedust/raw/master/docs/_static/pd_icon32.png\" style=\"float:left;margin-right:10px\"/>\n            </a>\n            <span>Pixiedust version 1.1.0.1</span>\n        </div>\n        ", 
                        "text/plain": "<IPython.core.display.HTML object>"
                    }, 
                    "metadata": {}
                }, 
                {
                    "output_type": "display_data", 
                    "data": {
                        "text/html": "<div>Warning: You are not running the latest version of PixieDust. Current is 1.1.0.1, Latest is 1.1.1</div>", 
                        "text/plain": "<IPython.core.display.HTML object>"
                    }, 
                    "metadata": {}
                }, 
                {
                    "output_type": "display_data", 
                    "data": {
                        "text/html": "\n                <div>Please copy and run the following command in a new cell to upgrade: <span style=\"background-color:#ececec;font-family:monospace;padding:0 5px\">!pip install --user --upgrade pixiedust</span></div>\n            ", 
                        "text/plain": "<IPython.core.display.HTML object>"
                    }, 
                    "metadata": {}
                }, 
                {
                    "output_type": "display_data", 
                    "data": {
                        "text/html": "<div>Please restart kernel after upgrading.</div>", 
                        "text/plain": "<IPython.core.display.HTML object>"
                    }, 
                    "metadata": {}
                }
            ], 
            "source": "import pixiedust"
        }, 
        {
            "source": "## Load the raw sample data\nAnd take a look at what's in it.", 
            "cell_type": "markdown", 
            "metadata": {}
        }, 
        {
            "execution_count": 5, 
            "cell_type": "code", 
            "metadata": {}, 
            "outputs": [
                {
                    "execution_count": 5, 
                    "metadata": {}, 
                    "data": {
                        "text/html": "<div>\n<style>\n    .dataframe thead tr:only-child th {\n        text-align: right;\n    }\n\n    .dataframe thead th {\n        text-align: left;\n    }\n\n    .dataframe tbody tr th {\n        vertical-align: top;\n    }\n</style>\n<table border=\"1\" class=\"dataframe\">\n  <thead>\n    <tr style=\"text-align: right;\">\n      <th></th>\n      <th>0</th>\n      <th>1</th>\n    </tr>\n  </thead>\n  <tbody>\n    <tr>\n      <th>0</th>\n      <td>10050788972</td>\n      <td>{\"msg\":{\"body\":{\"Account\":{\"AccountId\":1005078...</td>\n    </tr>\n    <tr>\n      <th>1</th>\n      <td>10050788972</td>\n      <td>{\"msg\":{\"body\":{\"Account\":{\"AccountId\":1005078...</td>\n    </tr>\n    <tr>\n      <th>2</th>\n      <td>10021901902</td>\n      <td>{\"msg\":{\"body\":{\"Account\":{\"AccountId\":1002190...</td>\n    </tr>\n    <tr>\n      <th>3</th>\n      <td>10021901902</td>\n      <td>{\"msg\":{\"body\":{\"Account\":{\"AccountId\":1002190...</td>\n    </tr>\n    <tr>\n      <th>4</th>\n      <td>10021901902</td>\n      <td>{\"msg\":{\"body\":{\"Account\":{\"AccountId\":1002190...</td>\n    </tr>\n  </tbody>\n</table>\n</div>", 
                        "text/plain": "             0                                                  1\n0  10050788972  {\"msg\":{\"body\":{\"Account\":{\"AccountId\":1005078...\n1  10050788972  {\"msg\":{\"body\":{\"Account\":{\"AccountId\":1005078...\n2  10021901902  {\"msg\":{\"body\":{\"Account\":{\"AccountId\":1002190...\n3  10021901902  {\"msg\":{\"body\":{\"Account\":{\"AccountId\":1002190...\n4  10021901902  {\"msg\":{\"body\":{\"Account\":{\"AccountId\":1002190..."
                    }, 
                    "output_type": "execute_result"
                }
            ], 
            "source": "df = pd.read_csv(\n        get_object_storage_file_with_credentials(\n            'CableCompany', 'limitedJsonMachinelearning.csv'),\n        sep=\"|\", header=None)\ndf.head()"
        }, 
        {
            "source": "### There's several observations per account id", 
            "cell_type": "markdown", 
            "metadata": {}
        }, 
        {
            "execution_count": 6, 
            "cell_type": "code", 
            "metadata": {}, 
            "outputs": [
                {
                    "execution_count": 6, 
                    "metadata": {}, 
                    "data": {
                        "text/plain": "02300449241    24\n00240118225    23\n00121471183    21\n00522654023    21\n44010354197    20\nName: 0, dtype: int64"
                    }, 
                    "output_type": "execute_result"
                }
            ], 
            "source": "df[0].value_counts()[0:5]"
        }, 
        {
            "source": "### Fix formatting issues\nAccount and order IDs look numeric, but they have leadning zeroes so\nmust be treated as strings", 
            "cell_type": "markdown", 
            "metadata": {}
        }, 
        {
            "execution_count": 7, 
            "cell_type": "code", 
            "metadata": {
                "collapsed": true
            }, 
            "outputs": [], 
            "source": "import json\n\ndef fix(row):\n    # Convert AccountId values from int to str to handle leading zeroes\n    accountid = row[1][row[1].find(\"AccountId\"):row[1].find(\"ConnectDate\")-2]\n    accountid = accountid[accountid.find(\":\")+1:]\n    accountid_fix = row[1].replace(accountid,'\"{}\"'.format(accountid))\n    \n    # Convert OrderId values from int to str to handle leading zeroes\n    orderid = accountid_fix[accountid_fix.find(\"OrderId\"):accountid_fix.find(\"Class\")-2]\n    orderid = orderid[orderid.find(\":\")+1:]\n    orderid_fix = accountid_fix.replace(orderid,'\"{}\"'.format(orderid))\n    \n    # Convert str to dict\n    return json.loads(orderid_fix)\n\n"
        }, 
        {
            "execution_count": 8, 
            "cell_type": "code", 
            "metadata": {
                "collapsed": true
            }, 
            "outputs": [], 
            "source": "df[2] = df.apply(fix, axis=1)"
        }, 
        {
            "source": "### Make sure the format fix worked\nColumn 1 is the original data; the fixed data is in column 2. Unfortunately, the dictionary elements have been shuffled and the Pandas table display doesn't show enough to see the Account ID. So just print a single value, which shows the entire dictionary.", 
            "cell_type": "markdown", 
            "metadata": {}
        }, 
        {
            "execution_count": 9, 
            "cell_type": "code", 
            "metadata": {
                "scrolled": true
            }, 
            "outputs": [
                {
                    "execution_count": 9, 
                    "metadata": {}, 
                    "data": {
                        "text/html": "<div>\n<style>\n    .dataframe thead tr:only-child th {\n        text-align: right;\n    }\n\n    .dataframe thead th {\n        text-align: left;\n    }\n\n    .dataframe tbody tr th {\n        vertical-align: top;\n    }\n</style>\n<table border=\"1\" class=\"dataframe\">\n  <thead>\n    <tr style=\"text-align: right;\">\n      <th></th>\n      <th>0</th>\n      <th>1</th>\n      <th>2</th>\n    </tr>\n  </thead>\n  <tbody>\n    <tr>\n      <th>0</th>\n      <td>10050788972</td>\n      <td>{\"msg\":{\"body\":{\"Account\":{\"AccountId\":1005078...</td>\n      <td>{'msg': {'body': {'Order': {'ReasonCodeDescrip...</td>\n    </tr>\n    <tr>\n      <th>1</th>\n      <td>10050788972</td>\n      <td>{\"msg\":{\"body\":{\"Account\":{\"AccountId\":1005078...</td>\n      <td>{'msg': {'body': {'Order': {'ReasonCodeDescrip...</td>\n    </tr>\n    <tr>\n      <th>2</th>\n      <td>10021901902</td>\n      <td>{\"msg\":{\"body\":{\"Account\":{\"AccountId\":1002190...</td>\n      <td>{'msg': {'body': {'Order': {'ReasonCodeDescrip...</td>\n    </tr>\n    <tr>\n      <th>3</th>\n      <td>10021901902</td>\n      <td>{\"msg\":{\"body\":{\"Account\":{\"AccountId\":1002190...</td>\n      <td>{'msg': {'body': {'Order': {'ReasonCodeDescrip...</td>\n    </tr>\n    <tr>\n      <th>4</th>\n      <td>10021901902</td>\n      <td>{\"msg\":{\"body\":{\"Account\":{\"AccountId\":1002190...</td>\n      <td>{'msg': {'body': {'Order': {'ReasonCodeDescrip...</td>\n    </tr>\n  </tbody>\n</table>\n</div>", 
                        "text/plain": "             0                                                  1  \\\n0  10050788972  {\"msg\":{\"body\":{\"Account\":{\"AccountId\":1005078...   \n1  10050788972  {\"msg\":{\"body\":{\"Account\":{\"AccountId\":1005078...   \n2  10021901902  {\"msg\":{\"body\":{\"Account\":{\"AccountId\":1002190...   \n3  10021901902  {\"msg\":{\"body\":{\"Account\":{\"AccountId\":1002190...   \n4  10021901902  {\"msg\":{\"body\":{\"Account\":{\"AccountId\":1002190...   \n\n                                                   2  \n0  {'msg': {'body': {'Order': {'ReasonCodeDescrip...  \n1  {'msg': {'body': {'Order': {'ReasonCodeDescrip...  \n2  {'msg': {'body': {'Order': {'ReasonCodeDescrip...  \n3  {'msg': {'body': {'Order': {'ReasonCodeDescrip...  \n4  {'msg': {'body': {'Order': {'ReasonCodeDescrip...  "
                    }, 
                    "output_type": "execute_result"
                }
            ], 
            "source": "df.head()"
        }, 
        {
            "execution_count": 10, 
            "cell_type": "code", 
            "metadata": {}, 
            "outputs": [
                {
                    "execution_count": 10, 
                    "metadata": {}, 
                    "data": {
                        "text/plain": "{'msg': {'body': {'Account': {'AccountId': '10050788972',\n    'ConnectDate': '2012-11-09',\n    'Delinquency': {'Status': 'C'},\n    'DisconnectDate': '2017-07-31'},\n   'Order': {'Class': 'S',\n    'OrderId': '7625192014',\n    'ReasonCode': 'O2',\n    'ReasonCodeDescription': 'S-Verizon Fios (Fiber)',\n    'Status': 'C'}},\n  'head': {'Origin': 'LAZIA:17-BEP ORDER DETAIL UPDATED',\n   'TriggerDate': '2017-07-31',\n   'TriggerTime': '04:17:56'}}}"
                    }, 
                    "output_type": "execute_result"
                }
            ], 
            "source": "# Print the value in column 2 of the first row (row 0)\ndf[2][0]"
        }, 
        {
            "source": "## Flatten the dictionary structures\nPut each element in its own column. Omit elements deemed irrelevant.", 
            "cell_type": "markdown", 
            "metadata": {}
        }, 
        {
            "execution_count": 11, 
            "cell_type": "code", 
            "metadata": {
                "collapsed": true
            }, 
            "outputs": [], 
            "source": "# Brute-force method for flattening: list each column and element as needed\n# instead of relying on fully automated traversal\ndef flatten_row(row, i):\n    info = pd.DataFrame(row['msg']['body']['Order'], index = [i])\n    info['AccountId'] = row['msg']['body']['Account']['AccountId']\n    info['ConnectDate'] = row['msg']['body']['Account']['ConnectDate']\n    info['DelinquencyStatus'] = row['msg']['body']['Account']['Delinquency']['Status']\n    info['DisconnectDate'] = row['msg']['body']['Account']['DisconnectDate']\n    info2 = pd.DataFrame(row['msg']['head'], index = [i])   \n    return pd.concat([info, info2],axis=1)"
        }, 
        {
            "execution_count": 12, 
            "cell_type": "code", 
            "metadata": {
                "scrolled": false, 
                "collapsed": true
            }, 
            "outputs": [], 
            "source": "df1 = flatten_row(df[2][0],0)\nfor i in range(1,df.shape[0]):\n    df1 = df1.append(flatten_row(df[2][i],i))\ndel df1['''S'=['tatus''']    "
        }, 
        {
            "source": "#### Rename Columns Using the json structure", 
            "cell_type": "markdown", 
            "metadata": {}
        }, 
        {
            "execution_count": 13, 
            "cell_type": "code", 
            "metadata": {
                "collapsed": true
            }, 
            "outputs": [], 
            "source": "def rename_cols(s):\n    order = ['Class','ReasonCode','ReasonCodeDescription','Status']\n    account = ['ConnectDate','DelinquencyStatus','DisconnectDate']\n    head = ['TriggerDate','TriggerTime','Origin']\n    if(s in order):\n        return \"Order\"+s\n    elif(s in account):\n        return \"Account\"+s\n    elif(s in head):\n        return \"Head\"+s\n    else:\n        return s"
        }, 
        {
            "execution_count": 14, 
            "cell_type": "code", 
            "metadata": {
                "collapsed": true
            }, 
            "outputs": [], 
            "source": "new_cols = []\nfor st in df1.columns.tolist():\n    new_cols.append(rename_cols(st))\ndf1.columns = new_cols    "
        }, 
        {
            "execution_count": 15, 
            "cell_type": "code", 
            "metadata": {}, 
            "outputs": [
                {
                    "execution_count": 15, 
                    "metadata": {}, 
                    "data": {
                        "text/plain": "['AccountId',\n 'OrderClass',\n 'AccountConnectDate',\n 'AccountDelinquencyStatus',\n 'AccountDisconnectDate',\n 'OrderId',\n 'HeadOrigin',\n 'OrderReasonCode',\n 'OrderReasonCodeDescription',\n 'OrderStatus',\n 'HeadTriggerDate',\n 'HeadTriggerTime']"
                    }, 
                    "output_type": "execute_result"
                }
            ], 
            "source": "# Check that we got what we wanted\ndf1.columns.tolist()"
        }, 
        {
            "source": "## Explore Data after json flattening", 
            "cell_type": "markdown", 
            "metadata": {}
        }, 
        {
            "execution_count": 16, 
            "cell_type": "code", 
            "metadata": {}, 
            "outputs": [
                {
                    "execution_count": 16, 
                    "metadata": {}, 
                    "data": {
                        "text/plain": "(3308, 12)"
                    }, 
                    "output_type": "execute_result"
                }
            ], 
            "source": "df1.shape"
        }, 
        {
            "source": "### Lookup dictionaries for status and class codes\nThese come in handy when interpreting one-letter codes", 
            "cell_type": "markdown", 
            "metadata": {}
        }, 
        {
            "execution_count": 17, 
            "cell_type": "code", 
            "metadata": {
                "collapsed": true
            }, 
            "outputs": [], 
            "source": "status_codes = {\n    '':'Normal',\n    'A':'Open non-pay disconnect and equipment is active',\n    'C':'Voluntary disconnect',\n    'E':'Non-pay disconnect',\n    'F':'Open non-pay disconnect and equipment is force tuned',\n    'P':'Pending non-pay disconnect and services are restored; CSG assigns this status in real time',\n    'S':'Pending change of service job (applies to subscription billing)',\n    'T':'PPV ordering restricted',\n    'V':'Open voluntary disconnect job',\n    'W':'Open non-pay disconnect and equipment is disabled',\n    'Z':'Charged off'\n}\n\nclass_codes = {\n    'M':'Special request',\n    'S':'Service order',\n    'T':'Trouble call'\n}"
        }, 
        {
            "execution_count": 18, 
            "cell_type": "code", 
            "metadata": {}, 
            "outputs": [
                {
                    "execution_count": 18, 
                    "metadata": {}, 
                    "data": {
                        "text/plain": "Normal                                                                                        2581\nOpen non-pay disconnect and equipment is disabled                                              192\nOpen non-pay disconnect and equipment is active                                                137\nOpen voluntary disconnect job                                                                  133\nVoluntary disconnect                                                                           118\nPending non-pay disconnect and services are restored; CSG assigns this status in real time      98\nPPV ordering restricted                                                                         31\nNon-pay disconnect                                                                              14\nCharged off                                                                                      4\nName: AccountDelinquencyStatus, dtype: int64"
                    }, 
                    "output_type": "execute_result"
                }
            ], 
            "source": "(df1['AccountDelinquencyStatus'].apply(lambda x: status_codes.get(x))\n                        .value_counts())"
        }, 
        {
            "execution_count": 19, 
            "cell_type": "code", 
            "metadata": {
                "scrolled": true
            }, 
            "outputs": [
                {
                    "execution_count": 19, 
                    "metadata": {}, 
                    "data": {
                        "text/plain": "Service order      2623\nTrouble call        437\nSpecial request     248\nName: OrderClass, dtype: int64"
                    }, 
                    "output_type": "execute_result"
                }
            ], 
            "source": "(df1['OrderClass'].apply(lambda x: class_codes.get(x))\n             .value_counts())"
        }, 
        {
            "execution_count": 20, 
            "cell_type": "code", 
            "metadata": {
                "pixiedust": {
                    "displayParams": {
                        "rowCount": "500", 
                        "handlerId": "dataframe", 
                        "keyFields": "AccountDelinquencyStatus", 
                        "aggregation": "SUM"
                    }
                }
            }, 
            "outputs": [
                {
                    "output_type": "display_data", 
                    "data": {
                        "text/html": "<style type=\"text/css\">.pd_warning{display:none;}</style><div class=\"pd_warning\"><em>Hey, there's something awesome here! To see it, open this notebook outside GitHub, in a viewer like Jupyter</em></div><style type=\"text/css\" class=\"pd_save is-viewer-good\">\n  .df-table-wrapper .panel-heading {\n    border-radius: 0;\n    padding: 0px;\n  }\n  .df-table-wrapper .panel-heading:hover {\n    border-color: #008571;\n  }\n  .df-table-wrapper .panel-title a {\n    background-color: #f9f9fb;\n    color: #333333;\n    display: block;\n    outline: none;\n    padding: 10px 15px;\n    text-decoration: none;\n  }\n  .df-table-wrapper .panel-title a:hover {\n    background-color: #337ab7;\n    border-color: #2e6da4;\n    color: #ffffff;\n    display: block;\n    padding: 10px 15px;\n    text-decoration: none;\n  }\n  .df-table-wrapper {\n    font-size: small;\n    font-weight: 300;\n    letter-spacing: 0.5px;\n    line-height: normal;\n    height: inherit;\n    overflow: auto;\n  }\n  .df-table-search-count {\n    display: inline-block;\n    margin: 20px 0;\n  }\n  .df-table-container {\n    max-height: 50vh;\n    max-width: 100%;\n    overflow-x: auto;\n    position: relative;\n  }\n  .df-table-wrapper table {\n    border: 0 none #ffffff;\n    border-collapse: collapse;\n    margin: 0;\n    min-width: 100%;\n    padding: 0;\n    table-layout: fixed;\n    height: inherit;\n    overflow: auto;\n  }\n  .df-table-wrapper tr.hidden {\n    display: none;\n  }\n  .df-table-wrapper tr:nth-child(even) {\n    background-color: #f9f9fb;\n  }\n  .df-table-wrapper tr.even {\n    background-color: #f9f9fb;\n  }\n  .df-table-wrapper tr.odd {\n    background-color: #ffffff;\n  }\n  .df-table-wrapper td + td {\n    border-left: 1px solid #e0e0e0;\n  }\n\n  .df-table-wrapper thead,\n  .fixed-header {\n    color: #337ab7;\n    font-family: monospace;\n  }\n  .df-table-wrapper tr,\n  .fixed-row {\n    border: 0 none #ffffff;\n    margin: 0;\n    padding: 0;\n  }\n  .df-table-wrapper th,\n  .df-table-wrapper td,\n  .fixed-cell {\n    border: 0 none #ffffff;\n    margin: 0;\n    min-width: 50px;\n    padding: 5px 20px 5px 10px;\n    text-align: left;\n    word-wrap: break-word;\n  }\n  .df-table-wrapper th {\n    padding-bottom: 0;\n    padding-top: 0;\n  }\n  .df-table-wrapper th div {\n    max-height: 1px;\n    visibility: hidden;\n  }\n\n  .df-schema-field {\n    margin-left: 10px;\n  }\n\n  .fixed-header-container {\n    overflow: hidden;\n    position: relative;\n  }\n  .fixed-header {\n    border-bottom: 2px solid #2e6da4;\n    display: table;\n    position: relative;\n  }\n  .fixed-row {\n    display: table-row;\n  }\n  .fixed-cell {\n    display: table-cell;\n  }\n</style><div class=\"df-table-wrapper df-table-wrapper-7c8d1663 panel-group pd_save is-viewer-good\">\n  <!-- dataframe schema -->\n  \n  <div class=\"panel panel-default\">\n    <div class=\"panel-heading\">\n      <h4 class=\"panel-title\" style=\"margin: 0px;\">\n        <a data-toggle=\"collapse\" href=\"#df-schema-7c8d1663\" data-parent=\"#df-table-wrapper-7c8d1663\">Schema</a>\n      </h4>\n    </div>\n    <div id=\"df-schema-7c8d1663\" class=\"panel-collapse collapse\">\n      <div class=\"panel-body\" style=\"font-family: monospace;\">\n        <div class=\"df-schema-type\">\n          <span>type: </span><span>Pandas DataFrame Row</span>\n        </div>\n        <div class=\"df-schema-fields\">\n          <div>field:</div>\n          \n            <div class=\"df-schema-field\">{'name': 'index', 'type': dtype('O')}</div>\n          \n            <div class=\"df-schema-field\">{'name': 'AccountDelinquencyStatus', 'type': dtype('int64')}</div>\n          \n            <div class=\"df-schema-field\">{'name': 'status', 'type': dtype('int64')}</div>\n          \n        </div>\n      </div>\n    </div>\n  </div>\n  \n  <!-- dataframe table -->\n  <div class=\"panel panel-default\">\n    \n    <div class=\"panel-heading\">\n      <h4 class=\"panel-title\" style=\"margin: 0px;\">\n        <a data-toggle=\"collapse\" href=\"#df-table-7c8d1663\" data-parent=\"#df-table-wrapper-7c8d1663\">Table</a>\n      </h4>\n    </div>\n    \n    <div id=\"df-table-7c8d1663\" class=\"panel-collapse collapse in\">\n      <div class=\"panel-body\">\n        \n        <input class=\"df-table-search form-control input-sm\" placeholder=\"Search table\" type=\"text\">\n        <div>\n          <span class=\"df-table-search-count\">Showing 9 of 9</span>\n        </div>\n        <!-- fixed header for when dataframe table scrolls -->\n        <div class=\"fixed-header-container\">\n          <div class=\"fixed-header\">\n            <div class=\"fixed-row\">\n              \n              \n              <div class=\"fixed-cell\">index</div>\n              \n              \n              \n              <div class=\"fixed-cell\">AccountDelinquencyStatus</div>\n              \n              \n              \n              <div class=\"fixed-cell\">status</div>\n              \n              \n            </div>\n          </div>\n        </div>\n        <div class=\"df-table-container\">\n          <table class=\"df-table\">\n            <thead>\n              <tr>\n                \n                \n                <th><div>index</div></th>\n                \n                \n                \n                <th><div>AccountDelinquencyStatus</div></th>\n                \n                \n                \n                <th><div>status</div></th>\n                \n                \n              </tr>\n            </thead>\n            <tbody>\n              \n              <tr>\n                \n                \n                <td>N</td>\n                \n                \n                \n                <td>2581</td>\n                \n                \n                \n                <td>0</td>\n                \n                \n              </tr>\n              \n              <tr>\n                \n                \n                <td>W</td>\n                \n                \n                \n                <td>192</td>\n                \n                \n                \n                <td>1</td>\n                \n                \n              </tr>\n              \n              <tr>\n                \n                \n                <td>A</td>\n                \n                \n                \n                <td>137</td>\n                \n                \n                \n                <td>2</td>\n                \n                \n              </tr>\n              \n              <tr>\n                \n                \n                <td>V</td>\n                \n                \n                \n                <td>133</td>\n                \n                \n                \n                <td>3</td>\n                \n                \n              </tr>\n              \n              <tr>\n                \n                \n                <td>C</td>\n                \n                \n                \n                <td>118</td>\n                \n                \n                \n                <td>4</td>\n                \n                \n              </tr>\n              \n              <tr>\n                \n                \n                <td>P</td>\n                \n                \n                \n                <td>98</td>\n                \n                \n                \n                <td>5</td>\n                \n                \n              </tr>\n              \n              <tr>\n                \n                \n                <td>T</td>\n                \n                \n                \n                <td>31</td>\n                \n                \n                \n                <td>6</td>\n                \n                \n              </tr>\n              \n              <tr>\n                \n                \n                <td>E</td>\n                \n                \n                \n                <td>14</td>\n                \n                \n                \n                <td>7</td>\n                \n                \n              </tr>\n              \n              <tr>\n                \n                \n                <td>Z</td>\n                \n                \n                \n                <td>4</td>\n                \n                \n                \n                <td>8</td>\n                \n                \n              </tr>\n              \n            </tbody>\n          </table>\n        </div>\n      </div>\n    </div>\n  </div>\n</div><script class=\"pd_save is-viewer-good\">\n  $(function() {\n    var tableWrapper = $('.df-table-wrapper-7c8d1663');\n    var fixedHeader = $('.fixed-header', tableWrapper);\n    var tableContainer = $('.df-table-container', tableWrapper);\n    var table = $('.df-table', tableContainer);\n    var rows = $('tbody > tr', table);\n    var total = 9;\n\n    fixedHeader\n      .css('width', table.width())\n      .find('.fixed-cell')\n      .each(function(i, e) {\n        $(this).css('width', $('.df-table-wrapper-7c8d1663 th:nth-child(' + (i+1) + ')').css('width'));\n      });\n\n    tableContainer.scroll(function() {\n      fixedHeader.css({ left: table.position().left });\n    });\n\n    rows.on(\"click\", function(e){\n        var txt = e.delegateTarget.innerText;\n        var splits = txt.split(\"\\t\");\n        var len = splits.length;\n        var hdrs = $(fixedHeader).find(\".fixed-cell\");\n        // Add all cells in the selected row as a map to be consumed by the target as needed\n        var payload = {type:\"select\", targetDivId: \"\" };\n        for (var i = 0; i < len; i++) {\n          payload[hdrs[i].innerHTML] = splits[i];\n        }\n\n        //simple selection highlighting, client adds \"selected\" class\n        $(this).addClass(\"selected\").siblings().removeClass(\"selected\");\n        $(document).trigger('pd_event', payload);\n    });\n\n    $('.df-table-search', tableWrapper).keyup(function() {\n      var val = '^(?=.*\\\\b' + $.trim($(this).val()).split(/\\s+/).join('\\\\b)(?=.*\\\\b') + ').*$';\n      var reg = RegExp(val, 'i');\n      var index = 0;\n      \n      rows.each(function(i, e) {\n        if (!reg.test($(this).text().replace(/\\s+/g, ' '))) {\n          $(this).attr('class', 'hidden');\n        }\n        else {\n          $(this).attr('class', (++index % 2 == 0 ? 'even' : 'odd'));\n        }\n      });\n\n      $('.df-table-search-count', tableWrapper).html('Showing ' + index + ' of ' + total);\n    });\n  });\n\n  $(\".df-table-wrapper td:contains('http://')\").each(function(){var tc = this.textContent; $(this).wrapInner(\"<a target='_blank' href='\" + tc + \"'></a>\");});\n  $(\".df-table-wrapper td:contains('https://')\").each(function(){var tc = this.textContent; $(this).wrapInner(\"<a target='_blank' href='\" + tc + \"'></a>\");});\n</script>", 
                        "text/plain": "<IPython.core.display.HTML object>"
                    }, 
                    "metadata": {}
                }
            ], 
            "source": "# This is an example of using PixieDust to create a visual representation\ndf_status = (df1['AccountDelinquencyStatus'].value_counts()\n                                    .fillna('N')\n                                    .to_frame()\n                                    .reset_index()\n                                    .replace('', 'N')\n            )\ndf_status['status'] = df_status.index\ndisplay(df_status)"
        }, 
        {
            "execution_count": 21, 
            "cell_type": "code", 
            "metadata": {}, 
            "outputs": [
                {
                    "execution_count": 21, 
                    "metadata": {}, 
                    "data": {
                        "text/html": "<div>\n<style>\n    .dataframe thead tr:only-child th {\n        text-align: right;\n    }\n\n    .dataframe thead th {\n        text-align: left;\n    }\n\n    .dataframe tbody tr th {\n        vertical-align: top;\n    }\n</style>\n<table border=\"1\" class=\"dataframe\">\n  <thead>\n    <tr style=\"text-align: right;\">\n      <th></th>\n      <th>OrderReasonCode</th>\n      <th>OrderReasonCodeDescription</th>\n    </tr>\n  </thead>\n  <tbody>\n    <tr>\n      <th>0</th>\n      <td>O2</td>\n      <td>S-Verizon Fios (Fiber)</td>\n    </tr>\n    <tr>\n      <th>2</th>\n      <td>SJ</td>\n      <td>Channel-Web Order</td>\n    </tr>\n    <tr>\n      <th>3</th>\n      <td>18</td>\n      <td>Tech Assist</td>\n    </tr>\n    <tr>\n      <th>8</th>\n      <td>OT</td>\n      <td>P-Transfers Of Service</td>\n    </tr>\n    <tr>\n      <th>9</th>\n      <td>NP</td>\n      <td>P-Non Pay</td>\n    </tr>\n    <tr>\n      <th>13</th>\n      <td>OZ</td>\n      <td>P-Student</td>\n    </tr>\n    <tr>\n      <th>14</th>\n      <td>NT</td>\n      <td>Install-No Truck</td>\n    </tr>\n    <tr>\n      <th>17</th>\n      <td>25</td>\n      <td>Equip Prob</td>\n    </tr>\n    <tr>\n      <th>19</th>\n      <td>10</td>\n      <td>Digital Prblm</td>\n    </tr>\n    <tr>\n      <th>25</th>\n      <td>SC</td>\n      <td>Cssr Sale</td>\n    </tr>\n    <tr>\n      <th>28</th>\n      <td>P1</td>\n      <td>Poe Filtr Inst</td>\n    </tr>\n    <tr>\n      <th>33</th>\n      <td>OE</td>\n      <td>P-Low Usage</td>\n    </tr>\n    <tr>\n      <th>41</th>\n      <td>OD</td>\n      <td>P-Promotion Expired</td>\n    </tr>\n    <tr>\n      <th>45</th>\n      <td>XM</td>\n      <td>Mis</td>\n    </tr>\n    <tr>\n      <th>48</th>\n      <td>11</td>\n      <td>Verify Svcs</td>\n    </tr>\n    <tr>\n      <th>53</th>\n      <td>20</td>\n      <td>No Dial Tone</td>\n    </tr>\n    <tr>\n      <th>64</th>\n      <td>01</td>\n      <td>No Cable</td>\n    </tr>\n    <tr>\n      <th>66</th>\n      <td>11</td>\n      <td>Cnv/Rmt Prblm</td>\n    </tr>\n    <tr>\n      <th>99</th>\n      <td>XX</td>\n      <td>Is/Macro Change</td>\n    </tr>\n    <tr>\n      <th>101</th>\n      <td>00</td>\n      <td>Install-Sik</td>\n    </tr>\n  </tbody>\n</table>\n</div>", 
                        "text/plain": "    OrderReasonCode OrderReasonCodeDescription\n0                O2     S-Verizon Fios (Fiber)\n2                SJ          Channel-Web Order\n3                18                Tech Assist\n8                OT     P-Transfers Of Service\n9                NP                  P-Non Pay\n13               OZ                  P-Student\n14               NT           Install-No Truck\n17               25                 Equip Prob\n19               10              Digital Prblm\n25               SC                  Cssr Sale\n28               P1             Poe Filtr Inst\n33               OE                P-Low Usage\n41               OD        P-Promotion Expired\n45               XM                        Mis\n48               11                Verify Svcs\n53               20               No Dial Tone\n64               01                   No Cable\n66               11              Cnv/Rmt Prblm\n99               XX            Is/Macro Change\n101              00                Install-Sik"
                    }, 
                    "output_type": "execute_result"
                }
            ], 
            "source": "df_or = df1[['OrderReasonCode', 'OrderReasonCodeDescription']].drop_duplicates() #.sort_values('OrderReasonCode')\ndf_or.head(20)\n# display(df_or)"
        }, 
        {
            "source": "## Construct per-account time series\nThe original data has one record per customer interaction (Order ID), with multiple records\nper customer (Account ID). Since each customer's history is independent of all the others, it\nmakes sense to aggregate each history into a single row, one for each Account ID. The codes\nfor each interaction can be concatenated, in time order, to form a time series of codes. These\nwill form the basis of features and labels we can use to build models.", 
            "cell_type": "markdown", 
            "metadata": {}
        }, 
        {
            "source": "#### Coerce the reason codes to string type\nReason codes consist of two characters (OT, DF, etc.). Because some look like numbers (00), Pandas infers a type of mixed string/numeric for that column. This causes problems during aggregation, so make sure they're treated as strings.", 
            "cell_type": "markdown", 
            "metadata": {}
        }, 
        {
            "execution_count": 22, 
            "cell_type": "code", 
            "metadata": {}, 
            "outputs": [
                {
                    "execution_count": 22, 
                    "metadata": {}, 
                    "data": {
                        "text/plain": "'string'"
                    }, 
                    "output_type": "execute_result"
                }
            ], 
            "source": "df1['OrderReasonCode'] = df1['OrderReasonCode'].astype(str)\npd.api.types.infer_dtype(df1['OrderReasonCode'])"
        }, 
        {
            "source": "#### Create the concatenated time series\nTurn each sequence of single-character codes into a single string. For the two-charcter\nreason codes, separate them by an inobtrusive character, like a period. (Better not use comma,\nas that would cause issues when writing a CSV file.)", 
            "cell_type": "markdown", 
            "metadata": {}
        }, 
        {
            "execution_count": 23, 
            "cell_type": "code", 
            "metadata": {
                "collapsed": true
            }, 
            "outputs": [], 
            "source": "df2 = (df1.fillna('N')\n          .replace('','N')\n          .sort_values(['HeadTriggerDate', 'HeadTriggerTime'])\n          .groupby('AccountId')\n          .agg({\n                'OrderClass':'sum',\n                'AccountDelinquencyStatus':'sum',\n                'OrderReasonCode':lambda x: '.'.join(x),\n                'OrderStatus':'sum'\n          })\n          .reset_index()\n)"
        }, 
        {
            "execution_count": 24, 
            "cell_type": "code", 
            "metadata": {}, 
            "outputs": [
                {
                    "execution_count": 24, 
                    "metadata": {}, 
                    "data": {
                        "text/html": "<div>\n<style>\n    .dataframe thead tr:only-child th {\n        text-align: right;\n    }\n\n    .dataframe thead th {\n        text-align: left;\n    }\n\n    .dataframe tbody tr th {\n        vertical-align: top;\n    }\n</style>\n<table border=\"1\" class=\"dataframe\">\n  <thead>\n    <tr style=\"text-align: right;\">\n      <th></th>\n      <th>AccountId</th>\n      <th>OrderClass</th>\n      <th>OrderStatus</th>\n      <th>AccountDelinquencyStatus</th>\n      <th>OrderReasonCode</th>\n    </tr>\n  </thead>\n  <tbody>\n    <tr>\n      <th>0</th>\n      <td>00010043819</td>\n      <td>SSSSSSSSSS</td>\n      <td>OOCOOOOOOC</td>\n      <td>NNNNNNNNNN</td>\n      <td>DF.DF.DF.DF.DF.DF.DF.DF.DF.DF</td>\n    </tr>\n    <tr>\n      <th>1</th>\n      <td>00010221159</td>\n      <td>SSSSSSSSSTTSSSSSS</td>\n      <td>OOXOOXOOXOXCOOOXO</td>\n      <td>AWNAWNAWNNNNNNNNN</td>\n      <td>NP.NP.NP.NP.NP.NP.NP.NP.NP.01.01.NT.SJ.SJ.SJ.S...</td>\n    </tr>\n    <tr>\n      <th>2</th>\n      <td>00010271483</td>\n      <td>SS</td>\n      <td>OC</td>\n      <td>NN</td>\n      <td>NT.SE</td>\n    </tr>\n    <tr>\n      <th>3</th>\n      <td>00010271491</td>\n      <td>SS</td>\n      <td>OC</td>\n      <td>NN</td>\n      <td>NT.SE</td>\n    </tr>\n    <tr>\n      <th>4</th>\n      <td>00010380306</td>\n      <td>SSSSSSSSTTTSSS</td>\n      <td>OOXOOXOXOOCOOX</td>\n      <td>APNAWNANTTTAPN</td>\n      <td>NP.NP.NP.NP.NP.NP.NP.NP.D2.D2.D2.NP.NP.NP</td>\n    </tr>\n  </tbody>\n</table>\n</div>", 
                        "text/plain": "     AccountId         OrderClass        OrderStatus AccountDelinquencyStatus  \\\n0  00010043819         SSSSSSSSSS         OOCOOOOOOC               NNNNNNNNNN   \n1  00010221159  SSSSSSSSSTTSSSSSS  OOXOOXOOXOXCOOOXO        AWNAWNAWNNNNNNNNN   \n2  00010271483                 SS                 OC                       NN   \n3  00010271491                 SS                 OC                       NN   \n4  00010380306     SSSSSSSSTTTSSS     OOXOOXOXOOCOOX           APNAWNANTTTAPN   \n\n                                     OrderReasonCode  \n0                      DF.DF.DF.DF.DF.DF.DF.DF.DF.DF  \n1  NP.NP.NP.NP.NP.NP.NP.NP.NP.01.01.NT.SJ.SJ.SJ.S...  \n2                                              NT.SE  \n3                                              NT.SE  \n4          NP.NP.NP.NP.NP.NP.NP.NP.D2.D2.D2.NP.NP.NP  "
                    }, 
                    "output_type": "execute_result"
                }
            ], 
            "source": "df2.head()"
        }, 
        {
            "source": "## Write the per-account time series to a file\nTo make the data accessible to other notebooks in the project.\n\nNOTE: Do this only once.", 
            "cell_type": "markdown", 
            "metadata": {}
        }, 
        {
            "source": "df2.to_csv('accountTimeSeries.csv', index=False)\nput_object_storage_file_with_credentials('accountTimeSeries.csv')", 
            "cell_type": "raw", 
            "metadata": {
                "collapsed": true
            }
        }, 
        {
            "source": "## Minor problem diagnosis\n### One account ID from the original data is missing from the current dataframe\nFind out why.", 
            "cell_type": "markdown", 
            "metadata": {}
        }, 
        {
            "source": "#### The current dataframe has 573 rows, but the original data has 574 unique account IDs", 
            "cell_type": "markdown", 
            "metadata": {}
        }, 
        {
            "execution_count": 25, 
            "cell_type": "code", 
            "metadata": {}, 
            "outputs": [
                {
                    "execution_count": 25, 
                    "metadata": {}, 
                    "data": {
                        "text/plain": "(573, 5)"
                    }, 
                    "output_type": "execute_result"
                }
            ], 
            "source": "df2.shape"
        }, 
        {
            "execution_count": 26, 
            "cell_type": "code", 
            "metadata": {}, 
            "outputs": [
                {
                    "execution_count": 26, 
                    "metadata": {}, 
                    "data": {
                        "text/plain": "574"
                    }, 
                    "output_type": "execute_result"
                }
            ], 
            "source": "df[0].nunique()"
        }, 
        {
            "source": "#### The difference is one corrupted version of an existing account ID\nSee row 1774 in the table below.\n\nAs part of data cleansing, we may want to look for things like this and fix them. For now, assume that this may be an artifact of preparing the sample data set and in any case is insignificant. It's OK to ignore that record.", 
            "cell_type": "markdown", 
            "metadata": {}
        }, 
        {
            "execution_count": 27, 
            "cell_type": "code", 
            "metadata": {}, 
            "outputs": [
                {
                    "execution_count": 27, 
                    "metadata": {}, 
                    "data": {
                        "text/plain": "{'][][00762520805'}"
                    }, 
                    "output_type": "execute_result"
                }
            ], 
            "source": "set(df[0]).difference(set(df2['AccountId']))"
        }, 
        {
            "execution_count": 28, 
            "cell_type": "code", 
            "metadata": {}, 
            "outputs": [
                {
                    "execution_count": 28, 
                    "metadata": {}, 
                    "data": {
                        "text/html": "<div>\n<style>\n    .dataframe thead tr:only-child th {\n        text-align: right;\n    }\n\n    .dataframe thead th {\n        text-align: left;\n    }\n\n    .dataframe tbody tr th {\n        vertical-align: top;\n    }\n</style>\n<table border=\"1\" class=\"dataframe\">\n  <thead>\n    <tr style=\"text-align: right;\">\n      <th></th>\n      <th>0</th>\n      <th>1</th>\n      <th>2</th>\n    </tr>\n  </thead>\n  <tbody>\n    <tr>\n      <th>1773</th>\n      <td>00841533637</td>\n      <td>{\"msg\":{\"body\":{\"Account\":{\"AccountId\":0084153...</td>\n      <td>{'msg': {'body': {'Order': {'ReasonCodeDescrip...</td>\n    </tr>\n    <tr>\n      <th>1774</th>\n      <td>][][00762520805</td>\n      <td>{\"msg\":{\"body\":{\"Account\":{\"AccountId\":0076252...</td>\n      <td>{'msg': {'body': {'Order': {'ReasonCodeDescrip...</td>\n    </tr>\n    <tr>\n      <th>1775</th>\n      <td>00762520805</td>\n      <td>{\"msg\":{\"body\":{\"Account\":{\"AccountId\":0076252...</td>\n      <td>{'msg': {'body': {'Order': {'ReasonCodeDescrip...</td>\n    </tr>\n    <tr>\n      <th>1776</th>\n      <td>00762520805</td>\n      <td>{\"msg\":{\"body\":{\"Account\":{\"AccountId\":0076252...</td>\n      <td>{'msg': {'body': {'Order': {'ReasonCodeDescrip...</td>\n    </tr>\n    <tr>\n      <th>1777</th>\n      <td>00710757699</td>\n      <td>{\"msg\":{\"body\":{\"Account\":{\"AccountId\":0071075...</td>\n      <td>{'msg': {'body': {'Order': {'ReasonCodeDescrip...</td>\n    </tr>\n  </tbody>\n</table>\n</div>", 
                        "text/plain": "                    0                                                  1  \\\n1773      00841533637  {\"msg\":{\"body\":{\"Account\":{\"AccountId\":0084153...   \n1774  ][][00762520805  {\"msg\":{\"body\":{\"Account\":{\"AccountId\":0076252...   \n1775      00762520805  {\"msg\":{\"body\":{\"Account\":{\"AccountId\":0076252...   \n1776      00762520805  {\"msg\":{\"body\":{\"Account\":{\"AccountId\":0076252...   \n1777      00710757699  {\"msg\":{\"body\":{\"Account\":{\"AccountId\":0071075...   \n\n                                                      2  \n1773  {'msg': {'body': {'Order': {'ReasonCodeDescrip...  \n1774  {'msg': {'body': {'Order': {'ReasonCodeDescrip...  \n1775  {'msg': {'body': {'Order': {'ReasonCodeDescrip...  \n1776  {'msg': {'body': {'Order': {'ReasonCodeDescrip...  \n1777  {'msg': {'body': {'Order': {'ReasonCodeDescrip...  "
                    }, 
                    "output_type": "execute_result"
                }
            ], 
            "source": "df[1773:1778]"
        }
    ], 
    "metadata": {
        "kernelspec": {
            "display_name": "Python 3.5 (Experimental) with Spark 2.0", 
            "name": "python3-spark20", 
            "language": "python"
        }, 
        "language_info": {
            "mimetype": "text/x-python", 
            "nbconvert_exporter": "python", 
            "version": "3.5.2", 
            "name": "python", 
            "file_extension": ".py", 
            "pygments_lexer": "ipython3", 
            "codemirror_mode": {
                "version": 3, 
                "name": "ipython"
            }
        }
    }, 
    "nbformat": 4
}